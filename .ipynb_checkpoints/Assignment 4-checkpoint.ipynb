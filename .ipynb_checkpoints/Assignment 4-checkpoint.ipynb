{
 "cells": [
  {
   "cell_type": "markdown",
   "id": "51c75b3b",
   "metadata": {},
   "source": [
    "# Assignment # 4"
   ]
  },
  {
   "cell_type": "code",
   "execution_count": 33,
   "id": "ee6a23db",
   "metadata": {},
   "outputs": [
    {
     "name": "stdout",
     "output_type": "stream",
     "text": [
      "Enter A First Number:8\n",
      "Enter A Second Number:3\n",
      "Addition of numbers: 11\n",
      "Subtraction of numbers: 5\n",
      "Multiplication of numbers: 24\n",
      "Division of numbers First/Second: 2.6666666666666665\n",
      "Power of number First^Second: 512\n"
     ]
    }
   ],
   "source": [
    "#Question1#Make a calculater using python with addition, subtraction, multiplication, divition and power.\n",
    "a=int(input(\"Enter A First Number:\"))\n",
    "b=int(input(\"Enter A Second Number:\"))\n",
    "print(\"Addition of numbers:\",a+b)\n",
    "print(\"Subtraction of numbers:\",a-b)\n",
    "print(\"Multiplication of numbers:\",a*b)\n",
    "print(\"Division of numbers First/Second:\",a/b)\n",
    "print(\"Power of number First^Second:\",pow(a,b))\n"
   ]
  },
  {
   "cell_type": "code",
   "execution_count": 13,
   "id": "7f36204b",
   "metadata": {},
   "outputs": [
    {
     "name": "stdout",
     "output_type": "stream",
     "text": [
      "Yes there is a numaric value.\n"
     ]
    }
   ],
   "source": [
    "#Question2# write a program to chack if there is any numaric value in list using for loop.\n",
    "list = [\"Faisal\", \"Ali\", \"Qurashi\",5] \n",
    "for x in list: \n",
    "    if type(x) == int: \n",
    "        print(\"Yes there is a numaric value.\")\n",
    "        break\n",
    "else:\n",
    "     print(\"There is no numaric value.\")"
   ]
  },
  {
   "cell_type": "code",
   "execution_count": 7,
   "id": "32b9d7bd",
   "metadata": {},
   "outputs": [
    {
     "name": "stdout",
     "output_type": "stream",
     "text": [
      "{'FirstName': 'Faisal', 'LastName': 'Ali'}\n",
      "After Adding\n",
      "{'FirstName': 'Faisal', 'LastName': 'Ali', 'Cast': 'Qurashi'}\n"
     ]
    }
   ],
   "source": [
    "#Question3# Write a python script to add a key to a dictionary.\n",
    "DictName={\"FirstName\":\"Faisal\",\"LastName\":\"Ali\"}\n",
    "print(DictName)\n",
    "print(\"After Adding\")\n",
    "DictName[\"Cast\"]=\"Qurashi\"\n",
    "print(DictName)"
   ]
  },
  {
   "cell_type": "code",
   "execution_count": 42,
   "id": "341f9483",
   "metadata": {},
   "outputs": [
    {
     "name": "stdout",
     "output_type": "stream",
     "text": [
      "Sum : 800\n"
     ]
    }
   ],
   "source": [
    "#Question 4# Write a python programe to cum all the numaric item in a dictionary.\n",
    "\n",
    "def returnSum(myDict):\n",
    "\n",
    "    list = []\n",
    "    for i in myDict:\n",
    "        \n",
    "        list.append(myDict[i])\n",
    "        final = sum(list)\n",
    "\n",
    "        \n",
    "        \n",
    "\n",
    "    return final\n",
    "\n",
    "dict = {'a': 100, 'b':200, 3:300,\"f\":200}\n",
    "print(\"Sum :\", returnSum(dict))\n"
   ]
  },
  {
   "cell_type": "code",
   "execution_count": 63,
   "id": "06eb6f07",
   "metadata": {},
   "outputs": [
    {
     "name": "stdout",
     "output_type": "stream",
     "text": [
      "Duplicate Value in list are: [20, 30, 50, -20, 60, 120]\n"
     ]
    }
   ],
   "source": [
    "#Question5#Write a programe to identiffy duplicate value from list.\n",
    "def Repeat(x):\n",
    "    _size = len(x)\n",
    "    repeated = []\n",
    "    for i in range(_size):\n",
    "        k = i + 1\n",
    "        for j in range(k, _size):\n",
    "            if x[i] == x[j] and x[i] not in repeated:\n",
    "                repeated.append(x[i])\n",
    "    return repeated\n",
    "list1 = [10, 20, 30, 20, 20, 30, 40,50, -20, 60, 60, -20, -20,50,90,100,130,120,120]\n",
    "print (\"Duplicate Value in list are:\",Repeat(list1))\n"
   ]
  },
  {
   "cell_type": "code",
   "execution_count": 64,
   "id": "2c522bc1",
   "metadata": {},
   "outputs": [
    {
     "name": "stdout",
     "output_type": "stream",
     "text": [
      "Key is present in the dictionary\n",
      "Key is not present in the dictionary\n"
     ]
    }
   ],
   "source": [
    "#Question6# Write a python program script to check if a given key already exists in a dictionary.\n",
    "d = {1: 10, 2: 20, 3: 30, 4: 40, 5: 50, 6: 60}\n",
    "def is_key_present(x):\n",
    "  if x in d:\n",
    "      print('Key is present in the dictionary')\n",
    "  else:\n",
    "      print('Key is not present in the dictionary')\n",
    "is_key_present(5)\n",
    "is_key_present(9)"
   ]
  },
  {
   "cell_type": "code",
   "execution_count": null,
   "id": "2fb4bca1",
   "metadata": {},
   "outputs": [],
   "source": []
  }
 ],
 "metadata": {
  "kernelspec": {
   "display_name": "Python 3",
   "language": "python",
   "name": "python3"
  },
  "language_info": {
   "codemirror_mode": {
    "name": "ipython",
    "version": 3
   },
   "file_extension": ".py",
   "mimetype": "text/x-python",
   "name": "python",
   "nbconvert_exporter": "python",
   "pygments_lexer": "ipython3",
   "version": "3.8.8"
  }
 },
 "nbformat": 4,
 "nbformat_minor": 5
}
