{
 "cells": [
  {
   "cell_type": "code",
   "execution_count": 15,
   "id": "43b4dbe9",
   "metadata": {},
   "outputs": [
    {
     "name": "stdout",
     "output_type": "stream",
     "text": [
      "Twinkle, twinkle, little star,\n",
      "        How I wonder what you are!\n",
      "            Up above the world so high,\n",
      "            Like a diamond in the sky.\n",
      "Twinkle, twinkle, little star,\n",
      "        How I wonder what you are!\n"
     ]
    }
   ],
   "source": [
    "# Q1. Write a python program to point the following string in specific formate\n",
    "# Twinkle, twinkle, little star,\n",
    "#     How I wonder what you are!\n",
    "#         Up above the world so high,\n",
    "#         Like a diamond in the sky.\n",
    "# Twinkle, twinkle, little star,\n",
    "#     How I wonder what you are!\n",
    "print('''Twinkle, twinkle, little star,\n",
    "        How I wonder what you are!\n",
    "            Up above the world so high,\n",
    "            Like a diamond in the sky.\n",
    "Twinkle, twinkle, little star,\n",
    "        How I wonder what you are!''')\n",
    "    \n",
    "   "
   ]
  },
  {
   "cell_type": "code",
   "execution_count": 18,
   "id": "8617f5d4",
   "metadata": {},
   "outputs": [
    {
     "name": "stdout",
     "output_type": "stream",
     "text": [
      "3.8.8 (default, Apr 13 2021, 15:08:03) [MSC v.1916 64 bit (AMD64)]\n"
     ]
    }
   ],
   "source": [
    "# q2. Write a python program to get python version you are using\n",
    "import sys\n",
    "print (sys.version)\n",
    "\n",
    "\n"
   ]
  },
  {
   "cell_type": "code",
   "execution_count": 2,
   "id": "b65125bd",
   "metadata": {},
   "outputs": [
    {
     "name": "stdout",
     "output_type": "stream",
     "text": [
      "Today's date:  = 23/10/2021\n",
      "The time is now: = 5:43:44\n"
     ]
    }
   ],
   "source": [
    "# Q3. Write python programe to display the current date and time\n",
    "import datetime\n",
    "e = datetime.datetime.now()\n",
    "print (\"Today's date:  = %s/%s/%s\" % (e.day, e.month, e.year))\n",
    "print (\"The time is now: = %s:%s:%s\" % (e.hour, e.minute, e.second))"
   ]
  },
  {
   "cell_type": "code",
   "execution_count": 3,
   "id": "887cf46d",
   "metadata": {},
   "outputs": [
    {
     "name": "stdout",
     "output_type": "stream",
     "text": [
      "Input the radius of the circle : 6\n",
      "The area of the circle with radius 6.0 is: 113.09733552923255\n"
     ]
    }
   ],
   "source": [
    "# Q4.write a python program which accepts the radious of a circle from the user and computer the area.\n",
    "from math import pi\n",
    "radius = float(input (\"Input the radius of the circle : \"))\n",
    "print (\"The area of the circle with radius \" + str(radius) + \" is: \" + str(pi * radius**2))"
   ]
  },
  {
   "cell_type": "code",
   "execution_count": 1,
   "id": "406a6775",
   "metadata": {},
   "outputs": [
    {
     "name": "stdout",
     "output_type": "stream",
     "text": [
      "Enter Your First name: Faisal\n",
      "enter your last name: Ali\n",
      "lasiaF ilA\n"
     ]
    }
   ],
   "source": [
    "# Q5. write a python programewhich  accpts the user first and last name and print them in re verse order with  a space between them.\n",
    "a=input(\"Enter Your First name: \")\n",
    "b=input(\"enter your last name: \")\n",
    "reversedFirstName = a[::-1]\n",
    "reversedLastName = b[::-1]\n",
    "print(reversedFirstName+\" \"+reversedLastName)"
   ]
  },
  {
   "cell_type": "code",
   "execution_count": 3,
   "id": "e76da81d",
   "metadata": {},
   "outputs": [
    {
     "name": "stdout",
     "output_type": "stream",
     "text": [
      "Enter First number: 45\n",
      "Enter second number: 6\n",
      "Sum of two number is:  51\n"
     ]
    }
   ],
   "source": [
    "# Q6.Write a program which take to input from user and print them addition\n",
    "a=int(input(\"Enter First number: \"))\n",
    "b=int(input(\"Enter second number: \"))\n",
    "c=a+b\n",
    "print(\"Sum of two number is: \",c)\n"
   ]
  },
  {
   "cell_type": "code",
   "execution_count": 7,
   "id": "df0d3b01",
   "metadata": {},
   "outputs": [
    {
     "name": "stdout",
     "output_type": "stream",
     "text": [
      "Enter the marks of English: 56\n",
      "Enter the marks of Islamiat: 56\n",
      "Enter the marks of Math: 78\n",
      "Enter the marks of Chemistry: 89\n",
      "Enter the marks of Physics: 90\n",
      "percentage 73.8\n",
      "Grade A\n"
     ]
    }
   ],
   "source": [
    "# Q7. Write a program which takes 5 inputs from user for different subjects marks. total it and generate mark sheet using grades?\n",
    "Eng=int(input(\"Enter the marks of English: \"))\n",
    "Isl=int(input(\"Enter the marks of Islamiat: \"))\n",
    "Math=int(input(\"Enter the marks of Math: \"))\n",
    "Chem=int(input(\"Enter the marks of Chemistry: \"))\n",
    "Phy=int(input(\"Enter the marks of Physics: \"))\n",
    "\n",
    "\n",
    "if Eng > 0 and Isl > 0 and Math >0 and Chem >0 and Phy >0:\n",
    "    if Eng <=100 and Isl <=100 and Math <=100 and Chem <=100 and Phy <=100:\n",
    "        percentage=((Eng+Isl+Math+Chem+Phy)/500)*100\n",
    "        print(\"percentage\",percentage)\n",
    "        if percentage > 100 or percentage <0:\n",
    "            print(\"Please Enter Correct value: \")\n",
    "        elif percentage <=100 and percentage >=80:\n",
    "            print(\"Grade A+\")\n",
    "        elif percentage <80 and percentage >=70:\n",
    "            print(\"Grade A\")\n",
    "        elif percentage <70 and percentage >=60:\n",
    "            print(\"Grade B\")\n",
    "        elif percentage <60 and percentage >=50:\n",
    "            print(\"Grade C\")\n",
    "        elif percentage <50 and percentage >=40:\n",
    "            print(\"Grade D\") \n",
    "        elif percentage <40 and percentage >=33:\n",
    "            print(\"Grade E\")\n",
    "        elif percentage < 33:\n",
    "            print(\"You are Fail.Hard work next time.\")\n",
    "    \n",
    "\n",
    "    else:\n",
    "        print(\"condition Not HOld\")\n",
    "else:\n",
    "    print(\"condition Not HOld\")\n"
   ]
  },
  {
   "cell_type": "code",
   "execution_count": 12,
   "id": "ca2f74e3",
   "metadata": {},
   "outputs": [
    {
     "name": "stdout",
     "output_type": "stream",
     "text": [
      "Enter a number: 45\n",
      "Your Number is odd\n"
     ]
    }
   ],
   "source": [
    "# Q8. Write a program which take input from user and identify that the given num is even or odd?\n",
    "Num=int(input(\"Enter a number: \"))\n",
    "if Num %2==0:\n",
    "    print(\"Your Number is even\")\n",
    "else:\n",
    "    print(\"Your Number is odd\")"
   ]
  },
  {
   "cell_type": "code",
   "execution_count": 21,
   "id": "75c54232",
   "metadata": {},
   "outputs": [
    {
     "data": {
      "text/plain": [
       "6"
      ]
     },
     "execution_count": 21,
     "metadata": {},
     "output_type": "execute_result"
    }
   ],
   "source": [
    "# Q9. Write a programe which print the lingth of the list?\n",
    "List=[\"Orange\",\"Banana\",\"PineApple\",\"Graps\",\"Apple\",\"Mango\"]\n",
    "len(List)\n"
   ]
  },
  {
   "cell_type": "code",
   "execution_count": 47,
   "id": "28dfa085",
   "metadata": {},
   "outputs": [
    {
     "name": "stdout",
     "output_type": "stream",
     "text": [
      "Sum of all elements in given list:  54\n"
     ]
    }
   ],
   "source": [
    "# Q10 Write a python program to sum all the numaric itmes in the list?\n",
    "total = 0\n",
    "\n",
    "list1 = [11, 5, 17, 18, 3]\n",
    "\n",
    "for x in range(0, len(list1)):\n",
    "    total = total + list1[x]\n",
    "\n",
    "print(\"Sum of all elements in given list: \", total)\n"
   ]
  },
  {
   "cell_type": "code",
   "execution_count": 49,
   "id": "a1d97da1",
   "metadata": {},
   "outputs": [
    {
     "name": "stdout",
     "output_type": "stream",
     "text": [
      "673\n"
     ]
    }
   ],
   "source": [
    "# Q11. Write a program to get the largest number in a list?\n",
    "List=[45,67,78,673,78,557]\n",
    "print(max(List))"
   ]
  },
  {
   "cell_type": "code",
   "execution_count": 52,
   "id": "88eeaf6a",
   "metadata": {},
   "outputs": [
    {
     "name": "stdout",
     "output_type": "stream",
     "text": [
      "1\n",
      "1\n",
      "2\n",
      "3\n",
      "3\n"
     ]
    }
   ],
   "source": [
    "# Q12. write  a programe that prints all the elements of the list that are less than 5.\n",
    "a=[1,1,2,3,3,8,13,21,34,55,89]\n",
    "for item in a:\n",
    "  if item < 5:\n",
    "    print(item)"
   ]
  }
 ],
 "metadata": {
  "kernelspec": {
   "display_name": "Python 3",
   "language": "python",
   "name": "python3"
  },
  "language_info": {
   "codemirror_mode": {
    "name": "ipython",
    "version": 3
   },
   "file_extension": ".py",
   "mimetype": "text/x-python",
   "name": "python",
   "nbconvert_exporter": "python",
   "pygments_lexer": "ipython3",
   "version": "3.8.8"
  }
 },
 "nbformat": 4,
 "nbformat_minor": 5
}
